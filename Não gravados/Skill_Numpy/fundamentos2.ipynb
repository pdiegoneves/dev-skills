{
 "cells": [
  {
   "cell_type": "markdown",
   "id": "ce3b7a00",
   "metadata": {},
   "source": [
    "# Numpy fundamentos\n",
    "É de extrema importância para a computação ciêntifica em python sendo a base para diversas bibliotecas entre ela a Pandas"
   ]
  },
  {
   "cell_type": "code",
   "execution_count": 1,
   "id": "ead51941",
   "metadata": {},
   "outputs": [],
   "source": [
    "import numpy as np"
   ]
  }
 ],
 "metadata": {
  "kernelspec": {
   "display_name": ".venv",
   "language": "python",
   "name": "python3"
  },
  "language_info": {
   "codemirror_mode": {
    "name": "ipython",
    "version": 3
   },
   "file_extension": ".py",
   "mimetype": "text/x-python",
   "name": "python",
   "nbconvert_exporter": "python",
   "pygments_lexer": "ipython3",
   "version": "3.13.2"
  }
 },
 "nbformat": 4,
 "nbformat_minor": 5
}
